{
 "cells": [
  {
   "attachments": {},
   "cell_type": "markdown",
   "id": "f1e17c46",
   "metadata": {},
   "source": [
    "# Building the Teach.me teaching assistant"
   ]
  },
  {
   "attachments": {},
   "cell_type": "markdown",
   "id": "0eb78fbf",
   "metadata": {},
   "source": [
    "## Imports"
   ]
  },
  {
   "cell_type": "code",
   "execution_count": 25,
   "id": "a99acd89",
   "metadata": {},
   "outputs": [],
   "source": [
    "from langchain import OpenAI, LLMChain, PromptTemplate\n",
    "from langchain.memory import ConversationBufferWindowMemory\n",
    "from typing import List\n",
    "from pydantic import BaseModel\n"
   ]
  },
  {
   "attachments": {},
   "cell_type": "markdown",
   "id": "ae3da1f9",
   "metadata": {},
   "source": [
    "## Define agent template"
   ]
  },
  {
   "cell_type": "code",
   "execution_count": 52,
   "id": "00b7c02d",
   "metadata": {},
   "outputs": [],
   "source": [
    "class StudentProfile(BaseModel):\n",
    "    name: str = \"John Doe\"\n",
    "    grade: int = 10\n",
    "    subject: str = \"Financial Literacy\"\n",
    "    interests: List[str] = [\"Video Games\", \"Computers\", \"F1 Racing\"]\n",
    "\n",
    "\n",
    "student = StudentProfile()\n"
   ]
  },
  {
   "cell_type": "code",
   "execution_count": 56,
   "id": "ba9a28e3",
   "metadata": {},
   "outputs": [],
   "source": [
    "class Tutor:\n",
    "    \"\"\"\n",
    "    Tutor is a class that uses langchain to create a chatbot that acts as a\n",
    "    tutor.\n",
    "\n",
    "    Args:\n",
    "\n",
    "    student_profile: StudentProfile\n",
    "        The student profile contains information about the student that\n",
    "        the tutor will use to personalize the tutoring experience.\n",
    "\n",
    "    Methods:\n",
    "\n",
    "    setup_chatbot: None -> PromptTemplate\n",
    "        This method sets up the chatbot by creating a prompt template that\n",
    "        the chatbot will use to generate responses.\n",
    "\n",
    "    setup_chain: None -> ConversationChain\n",
    "        This method sets up the chatbot chain by creating a chain that\n",
    "        contains the chatbot and the prompt template.\n",
    "\n",
    "    get_history: None -> str\n",
    "        This method returns the chatbot's history as a string.\n",
    "\n",
    "    say: str -> str\n",
    "        This method takes in a string and returns a string that is the\n",
    "        chatbot's response to the input string.\n",
    "    \"\"\"\n",
    "\n",
    "    def __init__(self, student: StudentProfile):\n",
    "        self.student_profile = student\n",
    "        self.setup_chain()\n",
    "\n",
    "    def setup_chatbot(self) -> PromptTemplate:\n",
    "        template_base = f\"\"\"\n",
    "        Teach.me is a learning assistant that's goal is to help anyone,\n",
    "        learn anything.  To do this, it learns to adapt to the student's\n",
    "        needs and learning style.  Teach.me will guide the student in their\n",
    "        learning journey by being helpful, patient, and encouraging.\n",
    "        Teach.me tries to identify what core concepts the student is\n",
    "        struggling with and then tries to help the student understand them\n",
    "        better.  Teach.me will try not to give the student the answer, but\n",
    "        help them find it themselves.  If the student is stuck, Teach.me\n",
    "        will try to help them get unstuck by giving hints and suggestions.\n",
    "        If Teach.me has to give the student the answer, it will ask another\n",
    "        question targeting the same concept before moving on.  Please always\n",
    "        speak to the student in a way that would be appropriate according to\n",
    "        their grade level.\n",
    "\n",
    "        Student Info:\n",
    "        Name: {self.student_profile.name}\n",
    "        Grade: {self.student_profile.grade}\n",
    "        Subject: {self.student_profile.subject}\n",
    "        Interests: {self.student_profile.interests}\n",
    "\n",
    "        Teach.me: Hello, I'm Teach.me.  What would you like to learn about today?\n",
    "        \"\"\"\n",
    "        templae_format = \"\"\"{history}\n",
    "        Student: {human_input}\n",
    "        Teach.me:\"\"\"\n",
    "\n",
    "        prompt = PromptTemplate(\n",
    "            input_variables=[\"history\", \"human_input\"],\n",
    "            template=template_base + templae_format,\n",
    "        )\n",
    "        return prompt\n",
    "\n",
    "    def setup_chain(self):\n",
    "        prompt = self.setup_chatbot()\n",
    "\n",
    "        chatgpt_chain = LLMChain(\n",
    "            llm=OpenAI(temperature=0),\n",
    "            prompt=prompt,\n",
    "            verbose=True,\n",
    "            memory=ConversationBufferWindowMemory(k=2),\n",
    "        )\n",
    "        self.chain = chatgpt_chain\n",
    "\n",
    "    def get_history(self) -> str:\n",
    "        return self.chain.memory.get_history()\n",
    "\n",
    "    def say(self, text: str) -> str:\n",
    "        return self.chain.predict(human_input=text)\n"
   ]
  },
  {
   "cell_type": "code",
   "execution_count": 57,
   "id": "234bede7",
   "metadata": {},
   "outputs": [],
   "source": [
    "john_tutor = Tutor(student)\n"
   ]
  }
 ],
 "metadata": {
  "kernelspec": {
   "display_name": "Python 3 (ipykernel)",
   "language": "python",
   "name": "python3"
  },
  "language_info": {
   "codemirror_mode": {
    "name": "ipython",
    "version": 3
   },
   "file_extension": ".py",
   "mimetype": "text/x-python",
   "name": "python",
   "nbconvert_exporter": "python",
   "pygments_lexer": "ipython3",
   "version": "3.9.13"
  }
 },
 "nbformat": 4,
 "nbformat_minor": 5
}
